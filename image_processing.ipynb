{
 "cells": [
  {
   "cell_type": "markdown",
   "id": "5e3184ba",
   "metadata": {},
   "source": [
    "# Imports"
   ]
  },
  {
   "cell_type": "code",
   "execution_count": 15,
   "id": "aa0340a8",
   "metadata": {},
   "outputs": [
    {
     "name": "stdout",
     "output_type": "stream",
     "text": [
      "The autoreload extension is already loaded. To reload it, use:\n",
      "  %reload_ext autoreload\n"
     ]
    },
    {
     "data": {
      "text/plain": [
       "<module 'egg_class_functions' from '/home/tibor/Documents/Python/mosquito-egg-identification/egg_class_functions.py'>"
      ]
     },
     "execution_count": 15,
     "metadata": {},
     "output_type": "execute_result"
    }
   ],
   "source": [
    "%load_ext autoreload\n",
    "%autoreload 2\n",
    "\n",
    "import skimage\n",
    "import os\n",
    "import glob\n",
    "import importlib\n",
    "import wandb\n",
    "import numpy as np\n",
    "import matplotlib.pyplot as plt\n",
    "import egg_class_functions as ecf\n",
    "import tensorflow as tf\n",
    "import albumentations as A\n",
    "from sklearn.model_selection import train_test_split\n",
    "from sklearn.metrics import confusion_matrix\n",
    "from tensorflow.keras import layers\n",
    "from sklearn.preprocessing import LabelEncoder\n",
    "from tensorflow.keras.utils import to_categorical\n",
    "from wandb.integration.keras import WandbMetricsLogger, WandbModelCheckpoint\n",
    "from tensorflow.keras.callbacks import ModelCheckpoint\n",
    "from tensorflow import keras\n",
    "\n",
    "importlib.reload(ecf)"
   ]
  },
  {
   "cell_type": "markdown",
   "id": "b55de5f7",
   "metadata": {},
   "source": [
    "# Variable setup"
   ]
  },
  {
   "cell_type": "code",
   "execution_count": 10,
   "id": "30ea6c70",
   "metadata": {},
   "outputs": [],
   "source": [
    "seg_data_path = \"Data/processed/predicted_segmentation_data.csv\"\n",
    "image_paths = sorted(glob.glob(\"Data/raw/microscope/**/*.*\", recursive=True), key=lambda x: (os.path.dirname(x), os.path.basename(x)))\n",
    "BATCH_SIZE = 32\n",
    "EPOCHS = 100\n",
    "AUTOTUNE = tf.data.AUTOTUNE"
   ]
  },
  {
   "cell_type": "code",
   "execution_count": 3,
   "id": "2f8acdcb",
   "metadata": {},
   "outputs": [],
   "source": [
    "df_pred = ecf.segmented_image_import(seg_data_path)\n",
    "single_egg_df = df_pred.loc[df_pred[\"single\"] == 1].reset_index(drop=True)\n",
    "single_egg_df = single_egg_df.dropna()\n",
    "single_egg_df[\"segment\"] = single_egg_df.apply(ecf.rotate_and_pad_rgb_segment, axis=1)\n",
    "single_egg_df['species'] = single_egg_df['species'].replace(\"aegypti_old\", \"aegypti\")\n",
    "single_egg_df['species'] = single_egg_df['species'].replace(\"albopictus_old\", \"albopictus\")\n",
    "train, test = train_test_split(single_egg_df, test_size=0.1)\n",
    "\n",
    "X_train = train['segment']\n",
    "X_train = np.stack(X_train.to_list()).astype(np.float32)\n",
    "y_train = train['species']\n",
    "X_test = test['segment']\n",
    "X_test = np.stack(X_test.to_list()).astype(np.float32)\n",
    "y_test = test['species']\n",
    "label_encoder = LabelEncoder()\n",
    "y_train_encoded = label_encoder.fit_transform(y_train)\n",
    "y_train_onehot = to_categorical(y_train_encoded)\n",
    "\n",
    "X_train_split, X_val_split, y_train_split, y_val_split = train_test_split(\n",
    "    X_train, y_train_onehot, test_size=0.1, random_state=42)"
   ]
  },
  {
   "cell_type": "code",
   "execution_count": 4,
   "id": "8fe386d6",
   "metadata": {},
   "outputs": [
    {
     "name": "stdout",
     "output_type": "stream",
     "text": [
      "albopictus: 298\n",
      "aegypti: 268\n"
     ]
    }
   ],
   "source": [
    "print(f\"albopictus: {sum(single_egg_df['species'] == 'albopictus')}\")\n",
    "print(f\"aegypti: {sum(single_egg_df['species'] == 'aegypti')}\")"
   ]
  },
  {
   "cell_type": "markdown",
   "id": "d7783ee3",
   "metadata": {},
   "source": [
    "### Albumentation image augmenation"
   ]
  },
  {
   "cell_type": "code",
   "execution_count": 7,
   "id": "bae4aefd",
   "metadata": {},
   "outputs": [],
   "source": [
    "transforms = A.Compose([\n",
    "    # A.HorizontalFlip(p=0.5),\n",
    "    # A.VerticalFlip(p=0.5),\n",
    "    # A.ShiftScaleRotate(shift_limit=(0, 0.0625), scale_limit=0.0, rotate_limit=(-10, 10), p=0.5),\n",
    "    # A.RandomBrightnessContrast(p=0.5),\n",
    "    # A.RandomGamma(p=0.5),\n",
    "    # A.RandomToneCurve(scale=0.1, per_channel=True, p=0.5),\n",
    "    # A.RandomFog(p=0.5)\n",
    "])\n",
    "\n",
    "def albumentations_augment(image):\n",
    "    \"\"\"\n",
    "    Image: Numpy-Array [H,W,3] float32 (0-255)\n",
    "    Output: Augmentiertes Image (float32, 0-1)\n",
    "    \"\"\"\n",
    "    image = image.astype(np.uint8)  # Albumentations erwartet uint8-Bilder\n",
    "    augmented = transforms(image=image)\n",
    "    aug_image = augmented['image'].astype(np.float32) / 255.0\n",
    "    return aug_image\n",
    "\n",
    "\n",
    "def tf_albumentations_augment(image, label):\n",
    "    aug_image = tf.numpy_function(albumentations_augment, [image], tf.float32)\n",
    "    aug_image.set_shape(image.shape)\n",
    "    return aug_image, label\n",
    "\n",
    "train_ds = ecf.prepare_dataset_alb(X_train_split, y_train_split, tf_albumentations_augment, BATCH_SIZE)\n",
    "val_ds = ecf.prepare_dataset_alb(X_val_split, y_val_split, None, BATCH_SIZE, shuffle=False)"
   ]
  },
  {
   "cell_type": "markdown",
   "id": "8e35c9e7",
   "metadata": {},
   "source": [
    "### Tensorflow image augmentation"
   ]
  },
  {
   "cell_type": "code",
   "execution_count": 5,
   "id": "07df0c01",
   "metadata": {},
   "outputs": [
    {
     "name": "stderr",
     "output_type": "stream",
     "text": [
      "I0000 00:00:1751866829.454485     306 gpu_device.cc:2019] Created device /job:localhost/replica:0/task:0/device:GPU:0 with 7197 MB memory:  -> device: 0, name: NVIDIA GeForce RTX 3080, pci bus id: 0000:01:00.0, compute capability: 8.6\n"
     ]
    }
   ],
   "source": [
    "data_augmentation = tf.keras.Sequential([\n",
    "  layers.RandomFlip(\"horizontal_and_vertical\"),\n",
    "  layers.RandomRotation(0.0277),\n",
    "  layers.RandomBrightness(factor=0.2),\n",
    "  layers.RandomContrast(factor=0.2),\n",
    "  #layers.RandomColorJitter(\n",
    "  #    value_range=(0, 1),\n",
    "  #    brightness_factor=0.2,\n",
    "  #    contrast_factor=0.2,\n",
    "  #    saturation_factor=0.5,\n",
    "  #    hue_factor=(0.5, 0.5)\n",
    "  #    ),\n",
    "  #layers.RandomColorDegeneration(0.2),\n",
    "  #layers.RandomHue(factor=(0.5, 0.5), value_range=(0, 1)),\n",
    "  # layers.RandomSaturation(factor=0.5, value_range=(0, 1)),\n",
    "  # layers.RandomGaussianBlur(factor=0.2, sigma=(0.1, 0.4), value_range=(0, 1)),\n",
    "\n",
    "])\n",
    "\n",
    "train_ds = ecf.prepare_dataset_tf(X_train_split, y_train_split, data_augmentation, BATCH_SIZE)\n",
    "val_ds = ecf.prepare_dataset_tf(X_val_split, y_val_split, data_augmentation, BATCH_SIZE, shuffle=False)"
   ]
  },
  {
   "cell_type": "markdown",
   "id": "251d9333",
   "metadata": {},
   "source": [
    "# Model Training"
   ]
  },
  {
   "cell_type": "code",
   "execution_count": 6,
   "id": "4a766040",
   "metadata": {},
   "outputs": [],
   "source": [
    "weight_for_albo = (1 / sum(single_egg_df['species'] == 'albopictus')) * (len(single_egg_df))\n",
    "weight_for_aegy = (1 / sum(single_egg_df['species'] == 'aegypti')) * (len(single_egg_df))\n",
    "\n",
    "class_weight = {0: weight_for_albo, 1: weight_for_aegy}"
   ]
  },
  {
   "cell_type": "code",
   "execution_count": 7,
   "id": "8458a421",
   "metadata": {},
   "outputs": [
    {
     "name": "stdout",
     "output_type": "stream",
     "text": [
      "Weight for class 0: 1.90\n",
      "Weight for class 1: 2.11\n"
     ]
    }
   ],
   "source": [
    "print('Weight for class 0: {:.2f}'.format(weight_for_albo))\n",
    "print('Weight for class 1: {:.2f}'.format(weight_for_aegy))"
   ]
  },
  {
   "cell_type": "code",
   "execution_count": 16,
   "id": "003b05c9",
   "metadata": {},
   "outputs": [],
   "source": [
    "base_model = tf.keras.applications.EfficientNetV2B0(\n",
    "    input_shape=(200, 200, 3),\n",
    "    include_top=False,\n",
    "    weights=\"imagenet\"\n",
    ")\n",
    "base_model.trainable = False\n",
    "\n",
    "model = tf.keras.Sequential([\n",
    "    base_model,\n",
    "    layers.GlobalAveragePooling2D(),\n",
    "    layers.Dense(128, activation='relu'),\n",
    "    layers.Dense(2, activation='softmax')\n",
    "])"
   ]
  },
  {
   "cell_type": "code",
   "execution_count": 17,
   "id": "27187d0a",
   "metadata": {},
   "outputs": [
    {
     "data": {
      "text/html": [
       "Finishing previous runs because reinit is set to 'default'."
      ],
      "text/plain": [
       "<IPython.core.display.HTML object>"
      ]
     },
     "metadata": {},
     "output_type": "display_data"
    },
    {
     "name": "stderr",
     "output_type": "stream",
     "text": [
      "\u001b[34m\u001b[1mwandb\u001b[0m: \u001b[32m\u001b[41mERROR\u001b[0m The nbformat package was not found. It is required to save notebook history.\n"
     ]
    },
    {
     "data": {
      "text/html": [],
      "text/plain": [
       "<IPython.core.display.HTML object>"
      ]
     },
     "metadata": {},
     "output_type": "display_data"
    },
    {
     "data": {
      "text/html": [
       " View run <strong style=\"color:#cdcd00\">different-plant-32</strong> at: <a href='https://wandb.ai/tibor-schaffrin-universit-t-hamburg/egg-classification/runs/3vska72w' target=\"_blank\">https://wandb.ai/tibor-schaffrin-universit-t-hamburg/egg-classification/runs/3vska72w</a><br> View project at: <a href='https://wandb.ai/tibor-schaffrin-universit-t-hamburg/egg-classification' target=\"_blank\">https://wandb.ai/tibor-schaffrin-universit-t-hamburg/egg-classification</a><br>Synced 5 W&B file(s), 0 media file(s), 0 artifact file(s) and 0 other file(s)"
      ],
      "text/plain": [
       "<IPython.core.display.HTML object>"
      ]
     },
     "metadata": {},
     "output_type": "display_data"
    },
    {
     "data": {
      "text/html": [
       "Find logs at: <code>./wandb/run-20250707_080326-3vska72w/logs</code>"
      ],
      "text/plain": [
       "<IPython.core.display.HTML object>"
      ]
     },
     "metadata": {},
     "output_type": "display_data"
    },
    {
     "data": {
      "text/html": [
       "Tracking run with wandb version 0.20.1"
      ],
      "text/plain": [
       "<IPython.core.display.HTML object>"
      ]
     },
     "metadata": {},
     "output_type": "display_data"
    },
    {
     "data": {
      "text/html": [
       "Run data is saved locally in <code>/home/tibor/Documents/Python/mosquito-egg-identification/wandb/run-20250707_081927-z9m897uc</code>"
      ],
      "text/plain": [
       "<IPython.core.display.HTML object>"
      ]
     },
     "metadata": {},
     "output_type": "display_data"
    },
    {
     "data": {
      "text/html": [
       "Syncing run <strong><a href='https://wandb.ai/tibor-schaffrin-universit-t-hamburg/egg-classification/runs/z9m897uc' target=\"_blank\">lively-pond-33</a></strong> to <a href='https://wandb.ai/tibor-schaffrin-universit-t-hamburg/egg-classification' target=\"_blank\">Weights & Biases</a> (<a href='https://wandb.me/developer-guide' target=\"_blank\">docs</a>)<br>"
      ],
      "text/plain": [
       "<IPython.core.display.HTML object>"
      ]
     },
     "metadata": {},
     "output_type": "display_data"
    },
    {
     "data": {
      "text/html": [
       " View project at <a href='https://wandb.ai/tibor-schaffrin-universit-t-hamburg/egg-classification' target=\"_blank\">https://wandb.ai/tibor-schaffrin-universit-t-hamburg/egg-classification</a>"
      ],
      "text/plain": [
       "<IPython.core.display.HTML object>"
      ]
     },
     "metadata": {},
     "output_type": "display_data"
    },
    {
     "data": {
      "text/html": [
       " View run at <a href='https://wandb.ai/tibor-schaffrin-universit-t-hamburg/egg-classification/runs/z9m897uc' target=\"_blank\">https://wandb.ai/tibor-schaffrin-universit-t-hamburg/egg-classification/runs/z9m897uc</a>"
      ],
      "text/plain": [
       "<IPython.core.display.HTML object>"
      ]
     },
     "metadata": {},
     "output_type": "display_data"
    },
    {
     "name": "stdout",
     "output_type": "stream",
     "text": [
      "Epoch 1/100\n",
      "\u001b[1m15/15\u001b[0m \u001b[32m━━━━━━━━━━━━━━━━━━━━\u001b[0m\u001b[37m\u001b[0m \u001b[1m19s\u001b[0m 671ms/step - accuracy: 0.5720 - loss: 1.3377 - val_accuracy: 0.5882 - val_loss: 0.6714\n",
      "Epoch 2/100\n",
      "\u001b[1m15/15\u001b[0m \u001b[32m━━━━━━━━━━━━━━━━━━━━\u001b[0m\u001b[37m\u001b[0m \u001b[1m1s\u001b[0m 37ms/step - accuracy: 0.6167 - loss: 1.3011 - val_accuracy: 0.5490 - val_loss: 0.6885\n",
      "Epoch 3/100\n",
      "\u001b[1m15/15\u001b[0m \u001b[32m━━━━━━━━━━━━━━━━━━━━\u001b[0m\u001b[37m\u001b[0m \u001b[1m1s\u001b[0m 37ms/step - accuracy: 0.6300 - loss: 1.3149 - val_accuracy: 0.4706 - val_loss: 0.6877\n",
      "Epoch 4/100\n",
      "\u001b[1m15/15\u001b[0m \u001b[32m━━━━━━━━━━━━━━━━━━━━\u001b[0m\u001b[37m\u001b[0m \u001b[1m1s\u001b[0m 61ms/step - accuracy: 0.6331 - loss: 1.2475 - val_accuracy: 0.6667 - val_loss: 0.6254\n",
      "Epoch 5/100\n",
      "\u001b[1m15/15\u001b[0m \u001b[32m━━━━━━━━━━━━━━━━━━━━\u001b[0m\u001b[37m\u001b[0m \u001b[1m1s\u001b[0m 40ms/step - accuracy: 0.7064 - loss: 1.2183 - val_accuracy: 0.6275 - val_loss: 0.6462\n",
      "Epoch 6/100\n",
      "\u001b[1m15/15\u001b[0m \u001b[32m━━━━━━━━━━━━━━━━━━━━\u001b[0m\u001b[37m\u001b[0m \u001b[1m1s\u001b[0m 38ms/step - accuracy: 0.6710 - loss: 1.2371 - val_accuracy: 0.6275 - val_loss: 0.6764\n",
      "Epoch 7/100\n",
      "\u001b[1m15/15\u001b[0m \u001b[32m━━━━━━━━━━━━━━━━━━━━\u001b[0m\u001b[37m\u001b[0m \u001b[1m1s\u001b[0m 38ms/step - accuracy: 0.6321 - loss: 1.2815 - val_accuracy: 0.5882 - val_loss: 0.6620\n",
      "Epoch 8/100\n",
      "\u001b[1m15/15\u001b[0m \u001b[32m━━━━━━━━━━━━━━━━━━━━\u001b[0m\u001b[37m\u001b[0m \u001b[1m1s\u001b[0m 61ms/step - accuracy: 0.6557 - loss: 1.1940 - val_accuracy: 0.6471 - val_loss: 0.6245\n",
      "Epoch 9/100\n",
      "\u001b[1m15/15\u001b[0m \u001b[32m━━━━━━━━━━━━━━━━━━━━\u001b[0m\u001b[37m\u001b[0m \u001b[1m1s\u001b[0m 37ms/step - accuracy: 0.6329 - loss: 1.2266 - val_accuracy: 0.6275 - val_loss: 0.6361\n",
      "Epoch 10/100\n",
      "\u001b[1m15/15\u001b[0m \u001b[32m━━━━━━━━━━━━━━━━━━━━\u001b[0m\u001b[37m\u001b[0m \u001b[1m1s\u001b[0m 40ms/step - accuracy: 0.6570 - loss: 1.1688 - val_accuracy: 0.5882 - val_loss: 0.6324\n",
      "Epoch 11/100\n",
      "\u001b[1m15/15\u001b[0m \u001b[32m━━━━━━━━━━━━━━━━━━━━\u001b[0m\u001b[37m\u001b[0m \u001b[1m1s\u001b[0m 61ms/step - accuracy: 0.6888 - loss: 1.1772 - val_accuracy: 0.7255 - val_loss: 0.6012\n",
      "Epoch 12/100\n",
      "\u001b[1m15/15\u001b[0m \u001b[32m━━━━━━━━━━━━━━━━━━━━\u001b[0m\u001b[37m\u001b[0m \u001b[1m1s\u001b[0m 85ms/step - accuracy: 0.6775 - loss: 1.1499 - val_accuracy: 0.6667 - val_loss: 0.6259\n",
      "Epoch 13/100\n",
      "\u001b[1m15/15\u001b[0m \u001b[32m━━━━━━━━━━━━━━━━━━━━\u001b[0m\u001b[37m\u001b[0m \u001b[1m1s\u001b[0m 60ms/step - accuracy: 0.6711 - loss: 1.2317 - val_accuracy: 0.6863 - val_loss: 0.5965\n",
      "Epoch 14/100\n",
      "\u001b[1m15/15\u001b[0m \u001b[32m━━━━━━━━━━━━━━━━━━━━\u001b[0m\u001b[37m\u001b[0m \u001b[1m1s\u001b[0m 39ms/step - accuracy: 0.7026 - loss: 1.1112 - val_accuracy: 0.6667 - val_loss: 0.6271\n",
      "Epoch 15/100\n",
      "\u001b[1m15/15\u001b[0m \u001b[32m━━━━━━━━━━━━━━━━━━━━\u001b[0m\u001b[37m\u001b[0m \u001b[1m1s\u001b[0m 42ms/step - accuracy: 0.7570 - loss: 1.1140 - val_accuracy: 0.6471 - val_loss: 0.6392\n",
      "Epoch 16/100\n",
      "\u001b[1m15/15\u001b[0m \u001b[32m━━━━━━━━━━━━━━━━━━━━\u001b[0m\u001b[37m\u001b[0m \u001b[1m1s\u001b[0m 39ms/step - accuracy: 0.7155 - loss: 1.1228 - val_accuracy: 0.7647 - val_loss: 0.6136\n",
      "Epoch 17/100\n",
      "\u001b[1m15/15\u001b[0m \u001b[32m━━━━━━━━━━━━━━━━━━━━\u001b[0m\u001b[37m\u001b[0m \u001b[1m1s\u001b[0m 62ms/step - accuracy: 0.6983 - loss: 1.1328 - val_accuracy: 0.7255 - val_loss: 0.5953\n",
      "Epoch 18/100\n",
      "\u001b[1m15/15\u001b[0m \u001b[32m━━━━━━━━━━━━━━━━━━━━\u001b[0m\u001b[37m\u001b[0m \u001b[1m1s\u001b[0m 40ms/step - accuracy: 0.7371 - loss: 1.1224 - val_accuracy: 0.7059 - val_loss: 0.6139\n",
      "Epoch 19/100\n",
      "\u001b[1m15/15\u001b[0m \u001b[32m━━━━━━━━━━━━━━━━━━━━\u001b[0m\u001b[37m\u001b[0m \u001b[1m1s\u001b[0m 40ms/step - accuracy: 0.7487 - loss: 1.1215 - val_accuracy: 0.6471 - val_loss: 0.6034\n",
      "Epoch 20/100\n",
      "\u001b[1m15/15\u001b[0m \u001b[32m━━━━━━━━━━━━━━━━━━━━\u001b[0m\u001b[37m\u001b[0m \u001b[1m1s\u001b[0m 62ms/step - accuracy: 0.7156 - loss: 1.0846 - val_accuracy: 0.6863 - val_loss: 0.5649\n",
      "Epoch 21/100\n",
      "\u001b[1m15/15\u001b[0m \u001b[32m━━━━━━━━━━━━━━━━━━━━\u001b[0m\u001b[37m\u001b[0m \u001b[1m1s\u001b[0m 40ms/step - accuracy: 0.7270 - loss: 1.1144 - val_accuracy: 0.7255 - val_loss: 0.5712\n",
      "Epoch 22/100\n",
      "\u001b[1m15/15\u001b[0m \u001b[32m━━━━━━━━━━━━━━━━━━━━\u001b[0m\u001b[37m\u001b[0m \u001b[1m1s\u001b[0m 41ms/step - accuracy: 0.7118 - loss: 1.1299 - val_accuracy: 0.6863 - val_loss: 0.5982\n",
      "Epoch 23/100\n",
      "\u001b[1m15/15\u001b[0m \u001b[32m━━━━━━━━━━━━━━━━━━━━\u001b[0m\u001b[37m\u001b[0m \u001b[1m1s\u001b[0m 40ms/step - accuracy: 0.6983 - loss: 1.0888 - val_accuracy: 0.6667 - val_loss: 0.6605\n",
      "Epoch 24/100\n",
      "\u001b[1m15/15\u001b[0m \u001b[32m━━━━━━━━━━━━━━━━━━━━\u001b[0m\u001b[37m\u001b[0m \u001b[1m1s\u001b[0m 41ms/step - accuracy: 0.7190 - loss: 1.0980 - val_accuracy: 0.6863 - val_loss: 0.5982\n",
      "Epoch 25/100\n",
      "\u001b[1m15/15\u001b[0m \u001b[32m━━━━━━━━━━━━━━━━━━━━\u001b[0m\u001b[37m\u001b[0m \u001b[1m1s\u001b[0m 41ms/step - accuracy: 0.7433 - loss: 1.0671 - val_accuracy: 0.6667 - val_loss: 0.6144\n",
      "Epoch 26/100\n",
      "\u001b[1m15/15\u001b[0m \u001b[32m━━━━━━━━━━━━━━━━━━━━\u001b[0m\u001b[37m\u001b[0m \u001b[1m1s\u001b[0m 63ms/step - accuracy: 0.7287 - loss: 1.0569 - val_accuracy: 0.7647 - val_loss: 0.5595\n",
      "Epoch 27/100\n",
      "\u001b[1m15/15\u001b[0m \u001b[32m━━━━━━━━━━━━━━━━━━━━\u001b[0m\u001b[37m\u001b[0m \u001b[1m1s\u001b[0m 38ms/step - accuracy: 0.7177 - loss: 1.0998 - val_accuracy: 0.7255 - val_loss: 0.6178\n",
      "Epoch 28/100\n",
      "\u001b[1m15/15\u001b[0m \u001b[32m━━━━━━━━━━━━━━━━━━━━\u001b[0m\u001b[37m\u001b[0m \u001b[1m1s\u001b[0m 39ms/step - accuracy: 0.7358 - loss: 1.0695 - val_accuracy: 0.7451 - val_loss: 0.5633\n",
      "Epoch 29/100\n",
      "\u001b[1m15/15\u001b[0m \u001b[32m━━━━━━━━━━━━━━━━━━━━\u001b[0m\u001b[37m\u001b[0m \u001b[1m1s\u001b[0m 41ms/step - accuracy: 0.7204 - loss: 1.1362 - val_accuracy: 0.6471 - val_loss: 0.6262\n",
      "Epoch 30/100\n",
      "\u001b[1m15/15\u001b[0m \u001b[32m━━━━━━━━━━━━━━━━━━━━\u001b[0m\u001b[37m\u001b[0m \u001b[1m1s\u001b[0m 61ms/step - accuracy: 0.6980 - loss: 1.0837 - val_accuracy: 0.7647 - val_loss: 0.5502\n",
      "Epoch 31/100\n",
      "\u001b[1m15/15\u001b[0m \u001b[32m━━━━━━━━━━━━━━━━━━━━\u001b[0m\u001b[37m\u001b[0m \u001b[1m1s\u001b[0m 38ms/step - accuracy: 0.7420 - loss: 1.0622 - val_accuracy: 0.6863 - val_loss: 0.6384\n",
      "Epoch 32/100\n",
      "\u001b[1m15/15\u001b[0m \u001b[32m━━━━━━━━━━━━━━━━━━━━\u001b[0m\u001b[37m\u001b[0m \u001b[1m1s\u001b[0m 39ms/step - accuracy: 0.7733 - loss: 0.9977 - val_accuracy: 0.6863 - val_loss: 0.6104\n",
      "Epoch 33/100\n",
      "\u001b[1m15/15\u001b[0m \u001b[32m━━━━━━━━━━━━━━━━━━━━\u001b[0m\u001b[37m\u001b[0m \u001b[1m1s\u001b[0m 39ms/step - accuracy: 0.7322 - loss: 1.0357 - val_accuracy: 0.7059 - val_loss: 0.6176\n",
      "Epoch 34/100\n",
      "\u001b[1m15/15\u001b[0m \u001b[32m━━━━━━━━━━━━━━━━━━━━\u001b[0m\u001b[37m\u001b[0m \u001b[1m1s\u001b[0m 42ms/step - accuracy: 0.7693 - loss: 0.9895 - val_accuracy: 0.7451 - val_loss: 0.5942\n",
      "Epoch 35/100\n",
      "\u001b[1m15/15\u001b[0m \u001b[32m━━━━━━━━━━━━━━━━━━━━\u001b[0m\u001b[37m\u001b[0m \u001b[1m1s\u001b[0m 40ms/step - accuracy: 0.7716 - loss: 0.9626 - val_accuracy: 0.6667 - val_loss: 0.5722\n",
      "Epoch 36/100\n",
      "\u001b[1m15/15\u001b[0m \u001b[32m━━━━━━━━━━━━━━━━━━━━\u001b[0m\u001b[37m\u001b[0m \u001b[1m1s\u001b[0m 38ms/step - accuracy: 0.7474 - loss: 0.9983 - val_accuracy: 0.7255 - val_loss: 0.5758\n",
      "Epoch 37/100\n",
      "\u001b[1m15/15\u001b[0m \u001b[32m━━━━━━━━━━━━━━━━━━━━\u001b[0m\u001b[37m\u001b[0m \u001b[1m1s\u001b[0m 38ms/step - accuracy: 0.7534 - loss: 0.9593 - val_accuracy: 0.7059 - val_loss: 0.5966\n",
      "Epoch 38/100\n",
      "\u001b[1m15/15\u001b[0m \u001b[32m━━━━━━━━━━━━━━━━━━━━\u001b[0m\u001b[37m\u001b[0m \u001b[1m1s\u001b[0m 38ms/step - accuracy: 0.7629 - loss: 1.0182 - val_accuracy: 0.7059 - val_loss: 0.6000\n",
      "Epoch 39/100\n",
      "\u001b[1m15/15\u001b[0m \u001b[32m━━━━━━━━━━━━━━━━━━━━\u001b[0m\u001b[37m\u001b[0m \u001b[1m1s\u001b[0m 38ms/step - accuracy: 0.7380 - loss: 1.0777 - val_accuracy: 0.7059 - val_loss: 0.5561\n",
      "Epoch 40/100\n",
      "\u001b[1m15/15\u001b[0m \u001b[32m━━━━━━━━━━━━━━━━━━━━\u001b[0m\u001b[37m\u001b[0m \u001b[1m1s\u001b[0m 42ms/step - accuracy: 0.7018 - loss: 1.0647 - val_accuracy: 0.7451 - val_loss: 0.5836\n",
      "Epoch 41/100\n",
      "\u001b[1m15/15\u001b[0m \u001b[32m━━━━━━━━━━━━━━━━━━━━\u001b[0m\u001b[37m\u001b[0m \u001b[1m1s\u001b[0m 39ms/step - accuracy: 0.7749 - loss: 1.0122 - val_accuracy: 0.6863 - val_loss: 0.5918\n",
      "Epoch 42/100\n",
      "\u001b[1m15/15\u001b[0m \u001b[32m━━━━━━━━━━━━━━━━━━━━\u001b[0m\u001b[37m\u001b[0m \u001b[1m1s\u001b[0m 40ms/step - accuracy: 0.7675 - loss: 0.9906 - val_accuracy: 0.7255 - val_loss: 0.6304\n",
      "Epoch 43/100\n",
      "\u001b[1m15/15\u001b[0m \u001b[32m━━━━━━━━━━━━━━━━━━━━\u001b[0m\u001b[37m\u001b[0m \u001b[1m1s\u001b[0m 38ms/step - accuracy: 0.7691 - loss: 0.9770 - val_accuracy: 0.7255 - val_loss: 0.5713\n",
      "Epoch 44/100\n",
      "\u001b[1m15/15\u001b[0m \u001b[32m━━━━━━━━━━━━━━━━━━━━\u001b[0m\u001b[37m\u001b[0m \u001b[1m1s\u001b[0m 38ms/step - accuracy: 0.7675 - loss: 1.0408 - val_accuracy: 0.7647 - val_loss: 0.5795\n",
      "Epoch 45/100\n",
      "\u001b[1m15/15\u001b[0m \u001b[32m━━━━━━━━━━━━━━━━━━━━\u001b[0m\u001b[37m\u001b[0m \u001b[1m1s\u001b[0m 38ms/step - accuracy: 0.7196 - loss: 1.0259 - val_accuracy: 0.7059 - val_loss: 0.5881\n",
      "Epoch 46/100\n",
      "\u001b[1m15/15\u001b[0m \u001b[32m━━━━━━━━━━━━━━━━━━━━\u001b[0m\u001b[37m\u001b[0m \u001b[1m1s\u001b[0m 39ms/step - accuracy: 0.7491 - loss: 1.0316 - val_accuracy: 0.6667 - val_loss: 0.6041\n",
      "Epoch 47/100\n",
      "\u001b[1m15/15\u001b[0m \u001b[32m━━━━━━━━━━━━━━━━━━━━\u001b[0m\u001b[37m\u001b[0m \u001b[1m1s\u001b[0m 41ms/step - accuracy: 0.7134 - loss: 1.0903 - val_accuracy: 0.7059 - val_loss: 0.6011\n",
      "Epoch 48/100\n",
      "\u001b[1m15/15\u001b[0m \u001b[32m━━━━━━━━━━━━━━━━━━━━\u001b[0m\u001b[37m\u001b[0m \u001b[1m1s\u001b[0m 61ms/step - accuracy: 0.7504 - loss: 0.9881 - val_accuracy: 0.8039 - val_loss: 0.5033\n",
      "Epoch 49/100\n",
      "\u001b[1m15/15\u001b[0m \u001b[32m━━━━━━━━━━━━━━━━━━━━\u001b[0m\u001b[37m\u001b[0m \u001b[1m1s\u001b[0m 38ms/step - accuracy: 0.7734 - loss: 1.0282 - val_accuracy: 0.7255 - val_loss: 0.6611\n",
      "Epoch 50/100\n",
      "\u001b[1m15/15\u001b[0m \u001b[32m━━━━━━━━━━━━━━━━━━━━\u001b[0m\u001b[37m\u001b[0m \u001b[1m1s\u001b[0m 40ms/step - accuracy: 0.7796 - loss: 0.9785 - val_accuracy: 0.6863 - val_loss: 0.5860\n",
      "Epoch 51/100\n",
      "\u001b[1m15/15\u001b[0m \u001b[32m━━━━━━━━━━━━━━━━━━━━\u001b[0m\u001b[37m\u001b[0m \u001b[1m1s\u001b[0m 39ms/step - accuracy: 0.7104 - loss: 1.0930 - val_accuracy: 0.6863 - val_loss: 0.5619\n",
      "Epoch 52/100\n",
      "\u001b[1m15/15\u001b[0m \u001b[32m━━━━━━━━━━━━━━━━━━━━\u001b[0m\u001b[37m\u001b[0m \u001b[1m1s\u001b[0m 40ms/step - accuracy: 0.7861 - loss: 0.9768 - val_accuracy: 0.7451 - val_loss: 0.5701\n",
      "Epoch 53/100\n",
      "\u001b[1m15/15\u001b[0m \u001b[32m━━━━━━━━━━━━━━━━━━━━\u001b[0m\u001b[37m\u001b[0m \u001b[1m1s\u001b[0m 39ms/step - accuracy: 0.7539 - loss: 0.9284 - val_accuracy: 0.7647 - val_loss: 0.5632\n",
      "Epoch 54/100\n",
      "\u001b[1m15/15\u001b[0m \u001b[32m━━━━━━━━━━━━━━━━━━━━\u001b[0m\u001b[37m\u001b[0m \u001b[1m1s\u001b[0m 42ms/step - accuracy: 0.7447 - loss: 0.9990 - val_accuracy: 0.7647 - val_loss: 0.5474\n",
      "Epoch 55/100\n",
      "\u001b[1m15/15\u001b[0m \u001b[32m━━━━━━━━━━━━━━━━━━━━\u001b[0m\u001b[37m\u001b[0m \u001b[1m1s\u001b[0m 39ms/step - accuracy: 0.7903 - loss: 0.9242 - val_accuracy: 0.7451 - val_loss: 0.5447\n",
      "Epoch 56/100\n",
      "\u001b[1m15/15\u001b[0m \u001b[32m━━━━━━━━━━━━━━━━━━━━\u001b[0m\u001b[37m\u001b[0m \u001b[1m1s\u001b[0m 39ms/step - accuracy: 0.7701 - loss: 1.0178 - val_accuracy: 0.6863 - val_loss: 0.5976\n",
      "Epoch 57/100\n",
      "\u001b[1m15/15\u001b[0m \u001b[32m━━━━━━━━━━━━━━━━━━━━\u001b[0m\u001b[37m\u001b[0m \u001b[1m1s\u001b[0m 38ms/step - accuracy: 0.7924 - loss: 0.9268 - val_accuracy: 0.7059 - val_loss: 0.5783\n",
      "Epoch 58/100\n",
      "\u001b[1m15/15\u001b[0m \u001b[32m━━━━━━━━━━━━━━━━━━━━\u001b[0m\u001b[37m\u001b[0m \u001b[1m1s\u001b[0m 37ms/step - accuracy: 0.7704 - loss: 0.9741 - val_accuracy: 0.6275 - val_loss: 0.6543\n",
      "Epoch 59/100\n",
      "\u001b[1m15/15\u001b[0m \u001b[32m━━━━━━━━━━━━━━━━━━━━\u001b[0m\u001b[37m\u001b[0m \u001b[1m1s\u001b[0m 39ms/step - accuracy: 0.7680 - loss: 0.9771 - val_accuracy: 0.7255 - val_loss: 0.5878\n",
      "Epoch 60/100\n",
      "\u001b[1m15/15\u001b[0m \u001b[32m━━━━━━━━━━━━━━━━━━━━\u001b[0m\u001b[37m\u001b[0m \u001b[1m1s\u001b[0m 39ms/step - accuracy: 0.7966 - loss: 0.9184 - val_accuracy: 0.6667 - val_loss: 0.6583\n",
      "Epoch 61/100\n",
      "\u001b[1m15/15\u001b[0m \u001b[32m━━━━━━━━━━━━━━━━━━━━\u001b[0m\u001b[37m\u001b[0m \u001b[1m1s\u001b[0m 40ms/step - accuracy: 0.7730 - loss: 0.9544 - val_accuracy: 0.7647 - val_loss: 0.5766\n",
      "Epoch 62/100\n",
      "\u001b[1m15/15\u001b[0m \u001b[32m━━━━━━━━━━━━━━━━━━━━\u001b[0m\u001b[37m\u001b[0m \u001b[1m1s\u001b[0m 38ms/step - accuracy: 0.7782 - loss: 0.9315 - val_accuracy: 0.7059 - val_loss: 0.5491\n",
      "Epoch 63/100\n",
      "\u001b[1m15/15\u001b[0m \u001b[32m━━━━━━━━━━━━━━━━━━━━\u001b[0m\u001b[37m\u001b[0m \u001b[1m1s\u001b[0m 39ms/step - accuracy: 0.7799 - loss: 0.9182 - val_accuracy: 0.6863 - val_loss: 0.5850\n",
      "Epoch 64/100\n",
      "\u001b[1m15/15\u001b[0m \u001b[32m━━━━━━━━━━━━━━━━━━━━\u001b[0m\u001b[37m\u001b[0m \u001b[1m1s\u001b[0m 40ms/step - accuracy: 0.7548 - loss: 0.9809 - val_accuracy: 0.7255 - val_loss: 0.5710\n",
      "Epoch 65/100\n",
      "\u001b[1m15/15\u001b[0m \u001b[32m━━━━━━━━━━━━━━━━━━━━\u001b[0m\u001b[37m\u001b[0m \u001b[1m1s\u001b[0m 38ms/step - accuracy: 0.7919 - loss: 0.9664 - val_accuracy: 0.7059 - val_loss: 0.6060\n",
      "Epoch 66/100\n",
      "\u001b[1m15/15\u001b[0m \u001b[32m━━━━━━━━━━━━━━━━━━━━\u001b[0m\u001b[37m\u001b[0m \u001b[1m1s\u001b[0m 40ms/step - accuracy: 0.7545 - loss: 0.9845 - val_accuracy: 0.7843 - val_loss: 0.5400\n",
      "Epoch 67/100\n",
      "\u001b[1m15/15\u001b[0m \u001b[32m━━━━━━━━━━━━━━━━━━━━\u001b[0m\u001b[37m\u001b[0m \u001b[1m1s\u001b[0m 45ms/step - accuracy: 0.7835 - loss: 0.9662 - val_accuracy: 0.7843 - val_loss: 0.5305\n",
      "Epoch 68/100\n",
      "\u001b[1m15/15\u001b[0m \u001b[32m━━━━━━━━━━━━━━━━━━━━\u001b[0m\u001b[37m\u001b[0m \u001b[1m1s\u001b[0m 37ms/step - accuracy: 0.7957 - loss: 0.9324 - val_accuracy: 0.7059 - val_loss: 0.5947\n",
      "Epoch 69/100\n",
      "\u001b[1m15/15\u001b[0m \u001b[32m━━━━━━━━━━━━━━━━━━━━\u001b[0m\u001b[37m\u001b[0m \u001b[1m1s\u001b[0m 39ms/step - accuracy: 0.7903 - loss: 0.9358 - val_accuracy: 0.7059 - val_loss: 0.5650\n",
      "Epoch 70/100\n",
      "\u001b[1m15/15\u001b[0m \u001b[32m━━━━━━━━━━━━━━━━━━━━\u001b[0m\u001b[37m\u001b[0m \u001b[1m1s\u001b[0m 42ms/step - accuracy: 0.7841 - loss: 0.9328 - val_accuracy: 0.7059 - val_loss: 0.5352\n",
      "Epoch 71/100\n",
      "\u001b[1m15/15\u001b[0m \u001b[32m━━━━━━━━━━━━━━━━━━━━\u001b[0m\u001b[37m\u001b[0m \u001b[1m1s\u001b[0m 39ms/step - accuracy: 0.7546 - loss: 0.9788 - val_accuracy: 0.8039 - val_loss: 0.5887\n",
      "Epoch 72/100\n",
      "\u001b[1m15/15\u001b[0m \u001b[32m━━━━━━━━━━━━━━━━━━━━\u001b[0m\u001b[37m\u001b[0m \u001b[1m1s\u001b[0m 62ms/step - accuracy: 0.8137 - loss: 0.8334 - val_accuracy: 0.8431 - val_loss: 0.4751\n",
      "Epoch 73/100\n",
      "\u001b[1m15/15\u001b[0m \u001b[32m━━━━━━━━━━━━━━━━━━━━\u001b[0m\u001b[37m\u001b[0m \u001b[1m1s\u001b[0m 39ms/step - accuracy: 0.7756 - loss: 0.9162 - val_accuracy: 0.7647 - val_loss: 0.5210\n",
      "Epoch 74/100\n",
      "\u001b[1m15/15\u001b[0m \u001b[32m━━━━━━━━━━━━━━━━━━━━\u001b[0m\u001b[37m\u001b[0m \u001b[1m1s\u001b[0m 62ms/step - accuracy: 0.8044 - loss: 0.9233 - val_accuracy: 0.6863 - val_loss: 0.5395\n",
      "Epoch 75/100\n",
      "\u001b[1m15/15\u001b[0m \u001b[32m━━━━━━━━━━━━━━━━━━━━\u001b[0m\u001b[37m\u001b[0m \u001b[1m1s\u001b[0m 39ms/step - accuracy: 0.8109 - loss: 0.8897 - val_accuracy: 0.7451 - val_loss: 0.5114\n",
      "Epoch 76/100\n",
      "\u001b[1m15/15\u001b[0m \u001b[32m━━━━━━━━━━━━━━━━━━━━\u001b[0m\u001b[37m\u001b[0m \u001b[1m1s\u001b[0m 39ms/step - accuracy: 0.8208 - loss: 0.8987 - val_accuracy: 0.7451 - val_loss: 0.5253\n",
      "Epoch 77/100\n",
      "\u001b[1m15/15\u001b[0m \u001b[32m━━━━━━━━━━━━━━━━━━━━\u001b[0m\u001b[37m\u001b[0m \u001b[1m1s\u001b[0m 39ms/step - accuracy: 0.7614 - loss: 0.9305 - val_accuracy: 0.7843 - val_loss: 0.5672\n",
      "Epoch 78/100\n",
      "\u001b[1m15/15\u001b[0m \u001b[32m━━━━━━━━━━━━━━━━━━━━\u001b[0m\u001b[37m\u001b[0m \u001b[1m1s\u001b[0m 39ms/step - accuracy: 0.7981 - loss: 0.9096 - val_accuracy: 0.7451 - val_loss: 0.5018\n",
      "Epoch 79/100\n",
      "\u001b[1m15/15\u001b[0m \u001b[32m━━━━━━━━━━━━━━━━━━━━\u001b[0m\u001b[37m\u001b[0m \u001b[1m1s\u001b[0m 39ms/step - accuracy: 0.7657 - loss: 0.9728 - val_accuracy: 0.7451 - val_loss: 0.5406\n",
      "Epoch 80/100\n",
      "\u001b[1m15/15\u001b[0m \u001b[32m━━━━━━━━━━━━━━━━━━━━\u001b[0m\u001b[37m\u001b[0m \u001b[1m1s\u001b[0m 41ms/step - accuracy: 0.8126 - loss: 0.8835 - val_accuracy: 0.7255 - val_loss: 0.5519\n",
      "Epoch 81/100\n",
      "\u001b[1m15/15\u001b[0m \u001b[32m━━━━━━━━━━━━━━━━━━━━\u001b[0m\u001b[37m\u001b[0m \u001b[1m1s\u001b[0m 38ms/step - accuracy: 0.8009 - loss: 0.8971 - val_accuracy: 0.7647 - val_loss: 0.6003\n",
      "Epoch 82/100\n",
      "\u001b[1m15/15\u001b[0m \u001b[32m━━━━━━━━━━━━━━━━━━━━\u001b[0m\u001b[37m\u001b[0m \u001b[1m1s\u001b[0m 39ms/step - accuracy: 0.8043 - loss: 0.9117 - val_accuracy: 0.7059 - val_loss: 0.6181\n",
      "Epoch 83/100\n",
      "\u001b[1m15/15\u001b[0m \u001b[32m━━━━━━━━━━━━━━━━━━━━\u001b[0m\u001b[37m\u001b[0m \u001b[1m1s\u001b[0m 39ms/step - accuracy: 0.7883 - loss: 0.9162 - val_accuracy: 0.7451 - val_loss: 0.5432\n",
      "Epoch 84/100\n",
      "\u001b[1m15/15\u001b[0m \u001b[32m━━━━━━━━━━━━━━━━━━━━\u001b[0m\u001b[37m\u001b[0m \u001b[1m1s\u001b[0m 39ms/step - accuracy: 0.7813 - loss: 0.9344 - val_accuracy: 0.7843 - val_loss: 0.5406\n",
      "Epoch 85/100\n",
      "\u001b[1m15/15\u001b[0m \u001b[32m━━━━━━━━━━━━━━━━━━━━\u001b[0m\u001b[37m\u001b[0m \u001b[1m1s\u001b[0m 38ms/step - accuracy: 0.8026 - loss: 0.8803 - val_accuracy: 0.7255 - val_loss: 0.5169\n",
      "Epoch 86/100\n",
      "\u001b[1m15/15\u001b[0m \u001b[32m━━━━━━━━━━━━━━━━━━━━\u001b[0m\u001b[37m\u001b[0m \u001b[1m1s\u001b[0m 38ms/step - accuracy: 0.8091 - loss: 0.8506 - val_accuracy: 0.7451 - val_loss: 0.5383\n",
      "Epoch 87/100\n",
      "\u001b[1m15/15\u001b[0m \u001b[32m━━━━━━━━━━━━━━━━━━━━\u001b[0m\u001b[37m\u001b[0m \u001b[1m1s\u001b[0m 38ms/step - accuracy: 0.8202 - loss: 0.8868 - val_accuracy: 0.7059 - val_loss: 0.5282\n",
      "Epoch 88/100\n",
      "\u001b[1m15/15\u001b[0m \u001b[32m━━━━━━━━━━━━━━━━━━━━\u001b[0m\u001b[37m\u001b[0m \u001b[1m1s\u001b[0m 39ms/step - accuracy: 0.7803 - loss: 0.8492 - val_accuracy: 0.7647 - val_loss: 0.5560\n",
      "Epoch 89/100\n",
      "\u001b[1m15/15\u001b[0m \u001b[32m━━━━━━━━━━━━━━━━━━━━\u001b[0m\u001b[37m\u001b[0m \u001b[1m1s\u001b[0m 40ms/step - accuracy: 0.7618 - loss: 0.9455 - val_accuracy: 0.7255 - val_loss: 0.5771\n",
      "Epoch 90/100\n",
      "\u001b[1m15/15\u001b[0m \u001b[32m━━━━━━━━━━━━━━━━━━━━\u001b[0m\u001b[37m\u001b[0m \u001b[1m1s\u001b[0m 39ms/step - accuracy: 0.7769 - loss: 0.8694 - val_accuracy: 0.7451 - val_loss: 0.5259\n",
      "Epoch 91/100\n",
      "\u001b[1m15/15\u001b[0m \u001b[32m━━━━━━━━━━━━━━━━━━━━\u001b[0m\u001b[37m\u001b[0m \u001b[1m1s\u001b[0m 38ms/step - accuracy: 0.8035 - loss: 0.8717 - val_accuracy: 0.6667 - val_loss: 0.5673\n",
      "Epoch 92/100\n",
      "\u001b[1m15/15\u001b[0m \u001b[32m━━━━━━━━━━━━━━━━━━━━\u001b[0m\u001b[37m\u001b[0m \u001b[1m1s\u001b[0m 38ms/step - accuracy: 0.8093 - loss: 0.8500 - val_accuracy: 0.7255 - val_loss: 0.5508\n",
      "Epoch 93/100\n",
      "\u001b[1m15/15\u001b[0m \u001b[32m━━━━━━━━━━━━━━━━━━━━\u001b[0m\u001b[37m\u001b[0m \u001b[1m1s\u001b[0m 39ms/step - accuracy: 0.7833 - loss: 0.9283 - val_accuracy: 0.7843 - val_loss: 0.5666\n",
      "Epoch 94/100\n",
      "\u001b[1m15/15\u001b[0m \u001b[32m━━━━━━━━━━━━━━━━━━━━\u001b[0m\u001b[37m\u001b[0m \u001b[1m1s\u001b[0m 45ms/step - accuracy: 0.8082 - loss: 0.8613 - val_accuracy: 0.8039 - val_loss: 0.5201\n",
      "Epoch 95/100\n",
      "\u001b[1m15/15\u001b[0m \u001b[32m━━━━━━━━━━━━━━━━━━━━\u001b[0m\u001b[37m\u001b[0m \u001b[1m1s\u001b[0m 38ms/step - accuracy: 0.7865 - loss: 0.8572 - val_accuracy: 0.7647 - val_loss: 0.5513\n",
      "Epoch 96/100\n",
      "\u001b[1m15/15\u001b[0m \u001b[32m━━━━━━━━━━━━━━━━━━━━\u001b[0m\u001b[37m\u001b[0m \u001b[1m1s\u001b[0m 38ms/step - accuracy: 0.7882 - loss: 0.9058 - val_accuracy: 0.7255 - val_loss: 0.5685\n",
      "Epoch 97/100\n",
      "\u001b[1m15/15\u001b[0m \u001b[32m━━━━━━━━━━━━━━━━━━━━\u001b[0m\u001b[37m\u001b[0m \u001b[1m1s\u001b[0m 40ms/step - accuracy: 0.8149 - loss: 0.8671 - val_accuracy: 0.7059 - val_loss: 0.5444\n",
      "Epoch 98/100\n",
      "\u001b[1m15/15\u001b[0m \u001b[32m━━━━━━━━━━━━━━━━━━━━\u001b[0m\u001b[37m\u001b[0m \u001b[1m1s\u001b[0m 40ms/step - accuracy: 0.8022 - loss: 0.8594 - val_accuracy: 0.7255 - val_loss: 0.5265\n",
      "Epoch 99/100\n",
      "\u001b[1m15/15\u001b[0m \u001b[32m━━━━━━━━━━━━━━━━━━━━\u001b[0m\u001b[37m\u001b[0m \u001b[1m1s\u001b[0m 40ms/step - accuracy: 0.8013 - loss: 0.8686 - val_accuracy: 0.7255 - val_loss: 0.5884\n",
      "Epoch 100/100\n",
      "\u001b[1m15/15\u001b[0m \u001b[32m━━━━━━━━━━━━━━━━━━━━\u001b[0m\u001b[37m\u001b[0m \u001b[1m1s\u001b[0m 39ms/step - accuracy: 0.8025 - loss: 0.8714 - val_accuracy: 0.8039 - val_loss: 0.5290\n",
      "WARNING:tensorflow:5 out of the last 5 calls to <function TensorFlowTrainer.make_predict_function.<locals>.one_step_on_data_distributed at 0x7fed0317b9c0> triggered tf.function retracing. Tracing is expensive and the excessive number of tracings could be due to (1) creating @tf.function repeatedly in a loop, (2) passing tensors with different shapes, (3) passing Python objects instead of tensors. For (1), please define your @tf.function outside of the loop. For (2), @tf.function has reduce_retracing=True option that can avoid unnecessary retracing. For (3), please refer to https://www.tensorflow.org/guide/function#controlling_retracing and https://www.tensorflow.org/api_docs/python/tf/function for  more details.\n",
      "\u001b[1m1/1\u001b[0m \u001b[32m━━━━━━━━━━━━━━━━━━━━\u001b[0m\u001b[37m\u001b[0m \u001b[1m2s\u001b[0m 2s/step\n",
      "WARNING:tensorflow:6 out of the last 6 calls to <function TensorFlowTrainer.make_predict_function.<locals>.one_step_on_data_distributed at 0x7fed0317b9c0> triggered tf.function retracing. Tracing is expensive and the excessive number of tracings could be due to (1) creating @tf.function repeatedly in a loop, (2) passing tensors with different shapes, (3) passing Python objects instead of tensors. For (1), please define your @tf.function outside of the loop. For (2), @tf.function has reduce_retracing=True option that can avoid unnecessary retracing. For (3), please refer to https://www.tensorflow.org/guide/function#controlling_retracing and https://www.tensorflow.org/api_docs/python/tf/function for  more details.\n",
      "\u001b[1m1/1\u001b[0m \u001b[32m━━━━━━━━━━━━━━━━━━━━\u001b[0m\u001b[37m\u001b[0m \u001b[1m3s\u001b[0m 3s/step\n"
     ]
    },
    {
     "data": {
      "text/html": [],
      "text/plain": [
       "<IPython.core.display.HTML object>"
      ]
     },
     "metadata": {},
     "output_type": "display_data"
    },
    {
     "data": {
      "text/html": [
       "<br>    <style><br>        .wandb-row {<br>            display: flex;<br>            flex-direction: row;<br>            flex-wrap: wrap;<br>            justify-content: flex-start;<br>            width: 100%;<br>        }<br>        .wandb-col {<br>            display: flex;<br>            flex-direction: column;<br>            flex-basis: 100%;<br>            flex: 1;<br>            padding: 10px;<br>        }<br>    </style><br><div class=\"wandb-row\"><div class=\"wandb-col\"><h3>Run history:</h3><br/><table class=\"wandb\"><tr><td>epoch/accuracy</td><td>▁▁▁▂▂▃▄▅▅▄▅▅▄▅▄▄▅▆▆▄▆▆▇▆▆▇▇▇█▆▇██▆█▅▇███</td></tr><tr><td>epoch/epoch</td><td>▁▁▁▁▂▂▂▃▃▃▃▃▃▃▃▄▄▄▄▄▄▅▅▅▅▅▅▆▆▆▆▇▇▇▇▇▇███</td></tr><tr><td>epoch/learning_rate</td><td>▁▁▁▁▁▁▁▁▁▁▁▁▁▁▁▁▁▁▁▁▁▁▁▁▁▁▁▁▁▁▁▁▁▁▁▁▁▁▁▁</td></tr><tr><td>epoch/loss</td><td>█▇▆▅▅▅▅▅▅▅▄▄▄▄▄▄▃▃▄▃▃▃▃▃▃▂▃▂▂▂▂▂▂▂▁▂▁▁▁▁</td></tr><tr><td>epoch/val_accuracy</td><td>▁▅▄▅▆▅▆▅▆▅▅▇▆▇▅▆▇▆▆▆▅▆▇▇▇▆▆█▆▆▇█▇▆█▇▆▇█▆</td></tr><tr><td>epoch/val_loss</td><td>▇█▆▇▆▅▃▇▅▅▃▆▅▄▄▄▄▄▅▇▃▄▇▄▄▂▄▄▂▁▁▃▅▂▂▃▄▃▄▂</td></tr></table><br/></div><div class=\"wandb-col\"><h3>Run summary:</h3><br/><table class=\"wandb\"><tr><td>epoch/accuracy</td><td>0.80568</td></tr><tr><td>epoch/epoch</td><td>99</td></tr><tr><td>epoch/learning_rate</td><td>0.0001</td></tr><tr><td>epoch/loss</td><td>0.87063</td></tr><tr><td>epoch/val_accuracy</td><td>0.80392</td></tr><tr><td>epoch/val_loss</td><td>0.52901</td></tr></table><br/></div></div>"
      ],
      "text/plain": [
       "<IPython.core.display.HTML object>"
      ]
     },
     "metadata": {},
     "output_type": "display_data"
    },
    {
     "data": {
      "text/html": [
       " View run <strong style=\"color:#cdcd00\">lively-pond-33</strong> at: <a href='https://wandb.ai/tibor-schaffrin-universit-t-hamburg/egg-classification/runs/z9m897uc' target=\"_blank\">https://wandb.ai/tibor-schaffrin-universit-t-hamburg/egg-classification/runs/z9m897uc</a><br> View project at: <a href='https://wandb.ai/tibor-schaffrin-universit-t-hamburg/egg-classification' target=\"_blank\">https://wandb.ai/tibor-schaffrin-universit-t-hamburg/egg-classification</a><br>Synced 5 W&B file(s), 1 media file(s), 202 artifact file(s) and 0 other file(s)"
      ],
      "text/plain": [
       "<IPython.core.display.HTML object>"
      ]
     },
     "metadata": {},
     "output_type": "display_data"
    },
    {
     "data": {
      "text/html": [
       "Find logs at: <code>./wandb/run-20250707_081927-z9m897uc/logs</code>"
      ],
      "text/plain": [
       "<IPython.core.display.HTML object>"
      ]
     },
     "metadata": {},
     "output_type": "display_data"
    }
   ],
   "source": [
    "wandb.init(project=\"egg-classification\", config={\n",
    "    \"architecture\": \"EfficientNetV2B0\",\n",
    "    \"input_shape\": (200, 200, 3),\n",
    "    \"epochs\": EPOCHS,\n",
    "    \"batch_size\": BATCH_SIZE,\n",
    "    \"optimizer\": \"adam\",\n",
    "    \"loss\": \"categorical_crossentropy\",\n",
    "    \"num_classes\": 2\n",
    "})\n",
    "\n",
    "\n",
    "local_checkpoint = ModelCheckpoint(\n",
    "    filepath=\"models/model.{epoch:02d}.h5\",\n",
    "    save_best_only=True,\n",
    "    save_weights_only=False\n",
    ")\n",
    "\n",
    "wandb_checkpoint = WandbModelCheckpoint(\n",
    "    filepath=\"models-wandb/model-{epoch:02d}.keras\",\n",
    "    save_best_only=True\n",
    ")\n",
    "\n",
    "optimizer = keras.optimizers.Adam(learning_rate=0.0001)\n",
    "\n",
    "model.compile(optimizer=optimizer,\n",
    "              loss='categorical_crossentropy',\n",
    "              metrics=['accuracy'],\n",
    "              )\n",
    "\n",
    "history = model.fit(train_ds,\n",
    "                    epochs=EPOCHS,\n",
    "                    validation_data=val_ds,\n",
    "                    callbacks=[WandbMetricsLogger(),\n",
    "                               wandb_checkpoint                               \n",
    "                                ],\n",
    "                    class_weight=class_weight\n",
    "                    )\n",
    "\n",
    "y_true = []\n",
    "y_pred = []\n",
    "\n",
    "for x, y in val_ds:\n",
    "    preds = model.predict(x)\n",
    "    y_true.extend(np.argmax(y.numpy(), axis=1))\n",
    "    y_pred.extend(np.argmax(preds, axis=1))\n",
    "\n",
    "# Confusion Matrix\n",
    "cm = confusion_matrix(y_true, y_pred)\n",
    "wandb.log({\"confusion_matrix\": wandb.plot.confusion_matrix(\n",
    "    probs=None,\n",
    "    y_true=y_true,\n",
    "    preds=y_pred,\n",
    "    class_names=[\"aegypti\", \"albopictus\"]\n",
    ")})\n",
    "\n",
    "wandb.finish()"
   ]
  }
 ],
 "metadata": {
  "kernelspec": {
   "display_name": "venv",
   "language": "python",
   "name": "python3"
  },
  "language_info": {
   "codemirror_mode": {
    "name": "ipython",
    "version": 3
   },
   "file_extension": ".py",
   "mimetype": "text/x-python",
   "name": "python",
   "nbconvert_exporter": "python",
   "pygments_lexer": "ipython3",
   "version": "3.12.11"
  }
 },
 "nbformat": 4,
 "nbformat_minor": 5
}
